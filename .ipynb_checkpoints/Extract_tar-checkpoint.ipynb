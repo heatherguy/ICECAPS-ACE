{
 "cells": [
  {
   "cell_type": "code",
   "execution_count": 61,
   "metadata": {},
   "outputs": [],
   "source": [
    "# Import things\n",
    "%matplotlib inline\n",
    "import matplotlib\n",
    "#matplotlib.use('Agg')\n",
    "\n",
    "import numpy as np\n",
    "import datetime as dt\n",
    "import matplotlib.pyplot as plt\n",
    "import matplotlib.dates as md\n",
    "import pandas as pd\n",
    "from matplotlib import rcParams\n",
    "import os\n",
    "import glob\n",
    "from scipy import io\n",
    "import tarfile\n",
    "import re\n",
    "\n",
    "# Supress warnings for sake of log file\n",
    "import warnings\n",
    "warnings.filterwarnings(\"ignore\")"
   ]
  },
  {
   "cell_type": "code",
   "execution_count": 62,
   "metadata": {},
   "outputs": [],
   "source": [
    "dloc= '/Users/heather/ICECAPS-ACE/'\n",
    "outdir = '/Users/heather/ICECAPS-ACE/temp_data/'\n",
    "instr = 'CLASP_G_Summit'"
   ]
  },
  {
   "cell_type": "code",
   "execution_count": 63,
   "metadata": {},
   "outputs": [],
   "source": [
    "fnames = glob.glob(dloc + r'/Data/*.tar.gz')\n",
    "for f in fnames: \n",
    "    t = tarfile.open(f,'r')\n",
    "    mems = t.getmembers()\n",
    "    for m in mems:\n",
    "        if instr in m.name:\n",
    "            t.extractall(path=outdir, members=[m])\n",
    "    t.close()\n"
   ]
  },
  {
   "cell_type": "code",
   "execution_count": null,
   "metadata": {},
   "outputs": [],
   "source": []
  }
 ],
 "metadata": {
  "kernelspec": {
   "display_name": "Python 2",
   "language": "python",
   "name": "python2"
  },
  "language_info": {
   "codemirror_mode": {
    "name": "ipython",
    "version": 2
   },
   "file_extension": ".py",
   "mimetype": "text/x-python",
   "name": "python",
   "nbconvert_exporter": "python",
   "pygments_lexer": "ipython2",
   "version": "2.7.15"
  }
 },
 "nbformat": 4,
 "nbformat_minor": 2
}
