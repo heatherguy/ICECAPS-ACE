{
 "cells": [
  {
   "cell_type": "code",
   "execution_count": 2,
   "metadata": {},
   "outputs": [],
   "source": [
    "from utils import *\n",
    "from fluxtower_parse import *\n",
    "import numpy as np      \n",
    "import datetime as dt"
   ]
  },
  {
   "cell_type": "code",
   "execution_count": 3,
   "metadata": {},
   "outputs": [],
   "source": [
    "in_loc = '/Volumes/Data/ICECAPSarchive/fluxtower/raw_extracted/LiCOR/'\n",
    "out_loc = '/Volumes/Data/ICECAPSarchive/fluxtower/processed/LiCOR/new/'"
   ]
  },
  {
   "cell_type": "code",
   "execution_count": 4,
   "metadata": {},
   "outputs": [
    {
     "name": "stdout",
     "output_type": "stream",
     "text": [
      "2019-05-28 00:00:00 to 2019-05-28 23:59:59.900000\n",
      "Data Error with: 190528_120000.00.licor\n",
      "\n",
      "Incomplete file 190528_130000.00.licor\n"
     ]
    },
    {
     "name": "stderr",
     "output_type": "stream",
     "text": [
      "b'Skipping line 35: expected 10 fields, saw 17\\nSkipping line 77: expected 10 fields, saw 16\\n'\n"
     ]
    },
    {
     "name": "stdout",
     "output_type": "stream",
     "text": [
      "2019-05-29 00:00:00 to 2019-05-29 23:59:59.900000\n",
      "Incomplete file 190529_160000.00.licor\n",
      "Error with: 190529_170000.00.licor this file is empty.\n",
      "\n",
      "Incomplete file 190529_181052.92.licor\n"
     ]
    },
    {
     "name": "stderr",
     "output_type": "stream",
     "text": [
      "b'Skipping line 35: expected 10 fields, saw 20\\n'\n"
     ]
    },
    {
     "name": "stdout",
     "output_type": "stream",
     "text": [
      "2019-05-30 00:00:00 to 2019-05-30 23:59:59.900000\n",
      "Incomplete file 190530_130000.00.licor\n",
      "2019-05-31 00:00:00 to 2019-05-31 23:59:59.900000\n",
      "2019-06-01 00:00:00 to 2019-06-01 23:59:59.900000\n",
      "Incomplete file 190601_160000.00.licor\n",
      "Incomplete file 190601_170000.00.licor\n"
     ]
    },
    {
     "name": "stderr",
     "output_type": "stream",
     "text": [
      "b'Skipping line 35: expected 10 fields, saw 18\\n'\n"
     ]
    },
    {
     "name": "stdout",
     "output_type": "stream",
     "text": [
      "2019-06-02 00:00:00 to 2019-06-02 23:59:59.900000\n",
      "Incomplete file 190602_110000.00.licor\n"
     ]
    },
    {
     "name": "stderr",
     "output_type": "stream",
     "text": [
      "b'Skipping line 16452: expected 10 fields, saw 11\\n'\n"
     ]
    },
    {
     "name": "stdout",
     "output_type": "stream",
     "text": [
      "Incomplete file 190602_130000.00.licor\n",
      "2019-06-03 00:00:00 to 2019-06-03 23:59:59.900000\n",
      "2019-06-04 00:00:00 to 2019-06-04 23:59:59.900000\n",
      "2019-06-05 00:00:00 to 2019-06-05 23:59:59.900000\n",
      "Incomplete file 190605_140000.00.licor\n",
      "Incomplete file 190605_150000.00.licor\n"
     ]
    },
    {
     "name": "stderr",
     "output_type": "stream",
     "text": [
      "b'Skipping line 45: expected 10 fields, saw 12\\n'\n"
     ]
    },
    {
     "name": "stdout",
     "output_type": "stream",
     "text": [
      "2019-06-06 00:00:00 to 2019-06-06 23:59:59.900000\n",
      "2019-06-07 00:00:00 to 2019-06-07 23:59:59.900000\n",
      "2019-06-08 00:00:00 to 2019-06-08 23:59:59.900000\n",
      "Incomplete file 190608_160000.00.licor\n",
      "2019-06-09 00:00:00 to 2019-06-09 23:59:59.900000\n",
      "Incomplete file 190609_100000.00.licor\n",
      "2019-06-10 00:00:00 to 2019-06-10 23:59:59.900000\n",
      "2019-06-11 00:00:00 to 2019-06-11 23:59:59.900000\n",
      "Incomplete file 190611_130000.00.licor\n",
      "2019-06-12 00:00:00 to 2019-06-12 23:59:59.900000\n",
      "2019-06-13 00:00:00 to 2019-06-13 23:59:59.900000\n",
      "2019-06-14 00:00:00 to 2019-06-14 23:59:59.900000\n",
      "2019-06-15 00:00:00 to 2019-06-15 23:59:59.900000\n",
      "2019-06-16 00:00:00 to 2019-06-16 23:59:59.900000\n",
      "2019-06-17 00:00:00 to 2019-06-17 23:59:59.900000\n",
      "2019-06-18 00:00:00 to 2019-06-18 23:59:59.900000\n",
      "Incomplete file 190618_120000.00.licor\n",
      "2019-06-19 00:00:00 to 2019-06-19 23:59:59.900000\n",
      "Incomplete file 190619_100000.00.licor\n",
      "2019-06-20 00:00:00 to 2019-06-20 23:59:59.900000\n",
      "2019-06-21 00:00:00 to 2019-06-21 23:59:59.900000\n",
      "2019-06-22 00:00:00 to 2019-06-22 23:59:59.900000\n",
      "2019-06-23 00:00:00 to 2019-06-23 23:59:59.900000\n",
      "2019-06-24 00:00:00 to 2019-06-24 23:59:59.900000\n",
      "2019-06-25 00:00:00 to 2019-06-25 23:59:59.900000\n",
      "2019-06-26 00:00:00 to 2019-06-26 23:59:59.900000\n",
      "2019-06-27 00:00:00 to 2019-06-27 23:59:59.900000\n",
      "2019-06-28 00:00:00 to 2019-06-28 23:59:59.900000\n",
      "2019-06-29 00:00:00 to 2019-06-29 23:59:59.900000\n",
      "2019-06-30 00:00:00 to 2019-06-30 23:59:59.900000\n",
      "2019-07-01 00:00:00 to 2019-07-01 23:59:59.900000\n",
      "2019-07-02 00:00:00 to 2019-07-02 23:59:59.900000\n",
      "2019-07-03 00:00:00 to 2019-07-03 23:59:59.900000\n",
      "2019-07-05 00:00:00 to 2019-07-05 23:59:59.900000\n",
      "2019-07-06 00:00:00 to 2019-07-06 23:59:59.900000\n",
      "2019-07-07 00:00:00 to 2019-07-07 23:59:59.900000\n",
      "2019-07-08 00:00:00 to 2019-07-08 23:59:59.900000\n",
      "2019-07-09 00:00:00 to 2019-07-09 23:59:59.900000\n",
      "2019-07-10 00:00:00 to 2019-07-10 23:59:59.900000\n",
      "Incomplete file 190710_150000.00.licor\n",
      "Incomplete file 190710_163837.47.licor\n"
     ]
    },
    {
     "name": "stderr",
     "output_type": "stream",
     "text": [
      "b'Skipping line 35: expected 10 fields, saw 18\\n'\n"
     ]
    },
    {
     "name": "stdout",
     "output_type": "stream",
     "text": [
      "2019-07-11 00:00:00 to 2019-07-11 23:59:59.900000\n",
      "2019-07-12 00:00:00 to 2019-07-12 23:59:59.900000\n",
      "2019-07-13 00:00:00 to 2019-07-13 23:59:59.900000\n",
      "2019-07-14 00:00:00 to 2019-07-14 23:59:59.900000\n",
      "Incomplete file 190714_170000.00.licor\n",
      "2019-07-15 00:00:00 to 2019-07-15 23:59:59.900000\n",
      "2019-07-16 00:00:00 to 2019-07-16 23:59:59.900000\n",
      "2019-07-17 00:00:00 to 2019-07-17 23:59:59.900000\n",
      "2019-07-18 00:00:00 to 2019-07-18 23:59:59.900000\n",
      "2019-07-19 00:00:00 to 2019-07-19 23:59:59.900000\n",
      "2019-07-20 00:00:00 to 2019-07-20 23:59:59.900000\n",
      "2019-07-21 00:00:00 to 2019-07-21 23:59:59.900000\n",
      "2019-07-22 00:00:00 to 2019-07-22 23:59:59.900000\n",
      "2019-07-24 00:00:00 to 2019-07-24 23:59:59.900000\n",
      "2019-07-25 00:00:00 to 2019-07-25 23:59:59.900000\n",
      "2019-07-26 00:00:00 to 2019-07-26 23:59:59.900000\n",
      "2019-07-27 00:00:00 to 2019-07-27 23:59:59.900000\n",
      "2019-07-28 00:00:00 to 2019-07-28 23:59:59.900000\n",
      "2019-07-29 00:00:00 to 2019-07-29 23:59:59.900000\n",
      "2019-07-30 00:00:00 to 2019-07-30 23:59:59.900000\n",
      "2019-07-31 00:00:00 to 2019-07-31 23:59:59.900000\n",
      "2019-08-01 00:00:00 to 2019-08-01 23:59:59.900000\n",
      "2019-08-02 00:00:00 to 2019-08-02 23:59:59.900000\n",
      "2019-08-03 00:00:00 to 2019-08-03 23:59:59.900000\n",
      "2019-08-04 00:00:00 to 2019-08-04 23:59:59.900000\n",
      "2019-08-05 00:00:00 to 2019-08-05 23:59:59.900000\n",
      "2019-08-06 00:00:00 to 2019-08-06 23:59:59.900000\n",
      "2019-08-07 00:00:00 to 2019-08-07 23:59:59.900000\n",
      "2019-08-08 00:00:00 to 2019-08-08 23:59:59.900000\n",
      "2019-08-09 00:00:00 to 2019-08-09 23:59:59.900000\n",
      "2019-08-10 00:00:00 to 2019-08-10 23:59:59.900000\n",
      "QC error. No data. \n",
      "\n",
      "2019-08-11 00:00:00 to 2019-08-11 23:59:59.900000\n",
      "Incomplete file 190811_183941.31.licor\n",
      "Incomplete file 190811_190000.00.licor\n",
      "Error with: 190811_190400.51.licor this file is empty.\n",
      "\n"
     ]
    },
    {
     "name": "stderr",
     "output_type": "stream",
     "text": [
      "b'Skipping line 1073: expected 10 fields, saw 12\\n'\n"
     ]
    },
    {
     "name": "stdout",
     "output_type": "stream",
     "text": [
      "Incomplete file 190811_190854.27.licor\n",
      "2019-08-12 00:00:00 to 2019-08-12 23:59:59.900000\n",
      "2019-08-13 00:00:00 to 2019-08-13 23:59:59.900000\n",
      "2019-08-14 00:00:00 to 2019-08-14 23:59:59.900000\n",
      "2019-08-15 00:00:00 to 2019-08-15 23:59:59.900000\n",
      "Incomplete file 190815_130000.00.licor\n",
      "2019-08-16 00:00:00 to 2019-08-16 23:59:59.900000\n",
      "2019-08-17 00:00:00 to 2019-08-17 23:59:59.900000\n",
      "2019-08-18 00:00:00 to 2019-08-18 23:59:59.900000\n",
      "2019-08-19 00:00:00 to 2019-08-19 23:59:59.900000\n",
      "Incomplete file 190819_080000.00.licor\n"
     ]
    },
    {
     "name": "stderr",
     "output_type": "stream",
     "text": [
      "b'Skipping line 27094: expected 10 fields, saw 11\\n'\n"
     ]
    },
    {
     "name": "stdout",
     "output_type": "stream",
     "text": [
      "Incomplete file 190819_190000.00.licor\n",
      "2019-08-20 00:00:00 to 2019-08-20 23:59:59.900000\n"
     ]
    },
    {
     "name": "stderr",
     "output_type": "stream",
     "text": [
      "b'Skipping line 22565: expected 10 fields, saw 13\\n'\n"
     ]
    },
    {
     "name": "stdout",
     "output_type": "stream",
     "text": [
      "Incomplete file 190820_190000.00.licor\n",
      "2019-08-21 00:00:00 to 2019-08-21 23:59:59.900000\n",
      "2019-08-22 00:00:00 to 2019-08-22 23:59:59.900000\n",
      "2019-08-23 00:00:00 to 2019-08-23 23:59:59.900000\n",
      "2019-08-24 00:00:00 to 2019-08-24 23:59:59.900000\n",
      "2019-08-25 00:00:00 to 2019-08-25 23:59:59.900000\n",
      "2019-08-26 00:00:00 to 2019-08-26 23:59:59.900000\n",
      "2019-08-27 00:00:00 to 2019-08-27 23:59:59.900000\n",
      "2019-08-28 00:00:00 to 2019-08-28 23:59:59.900000\n",
      "2019-08-29 00:00:00 to 2019-08-29 23:59:59.900000\n",
      "2019-08-30 00:00:00 to 2019-08-30 23:59:59.900000\n",
      "2019-08-31 00:00:00 to 2019-08-31 23:59:59.900000\n"
     ]
    }
   ],
   "source": [
    "# Extract and process all licor data, and save to 'processed'\n",
    "#logf = '/Users/heather/ICECAPS-ACE/log.txt'\n",
    "\n",
    "# Start and stop date:\n",
    "all_start = dt.datetime(2019,5,28,0,0)\n",
    "all_stop = dt.datetime(2019,9,1,0,0)\n",
    "\n",
    "all_days = pd.date_range(all_start,all_stop,freq='1D')\n",
    "\n",
    "# Loop through and splite into daily files\n",
    "for i in range(0,len(all_days)-1):\n",
    "#i=0\n",
    "    start = all_days[i]\n",
    "    stop = all_days[i+1] - pd.Timedelta(seconds=0.1)\n",
    "    print(str(start) + ' to ' + str(stop))\n",
    "    \n",
    "    #ventus = extract_ventus_data(start,stop,in_loc,logf,save=out_loc)\n",
    "    #m1,m2 = extract_metek_data(start,stop,in_loc,save=out_loc)\n",
    "    licor = extract_licor_data(start,stop,in_loc,save=out_loc)\n",
    "    #HMP2 = extract_HMP_data('HMP2',start,stop,in_loc,logf,save=out_loc)\n",
    "    #HMP3 = extract_HMP_data('HMP3',start,stop,in_loc,logf,save=out_loc)\n",
    "    #HMP4 = extract_HMP_data('HMP4',start,stop,in_loc,logf,save=out_loc)\n",
    "    #    print('Failed to process: %s'%str(start))\n"
   ]
  },
  {
   "cell_type": "code",
   "execution_count": null,
   "metadata": {},
   "outputs": [],
   "source": []
  }
 ],
 "metadata": {
  "kernelspec": {
   "display_name": "Python 3",
   "language": "python",
   "name": "python3"
  },
  "language_info": {
   "codemirror_mode": {
    "name": "ipython",
    "version": 3
   },
   "file_extension": ".py",
   "mimetype": "text/x-python",
   "name": "python",
   "nbconvert_exporter": "python",
   "pygments_lexer": "ipython3",
   "version": "3.7.4"
  }
 },
 "nbformat": 4,
 "nbformat_minor": 4
}
