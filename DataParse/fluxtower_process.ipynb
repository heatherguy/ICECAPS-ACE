{
 "cells": [
  {
   "cell_type": "code",
   "execution_count": 17,
   "metadata": {},
   "outputs": [],
   "source": [
    "from utils import *\n",
    "from fluxtower_parse import *\n",
    "from eddy_flux import * \n",
    "import numpy as np      \n",
    "import datetime as dt\n",
    "from scipy.signal import medfilt, detrend, coherence, windows\n"
   ]
  },
  {
   "cell_type": "code",
   "execution_count": 18,
   "metadata": {},
   "outputs": [
    {
     "name": "stdout",
     "output_type": "stream",
     "text": [
      "Data error with 190809_180000.00.metek1\n"
     ]
    }
   ],
   "source": [
    "# Get Metek data\n",
    "\n",
    "# If metek files don't already exsist, extract using the below:\n",
    "\n",
    "# To update raw data files: \n",
    "# rsync -azvp fluxtower@192.168.1.211:/home/data/fluxtower_data_transfer/ /Users/heather/ICECAPS-ACE/Data/.\n",
    "\n",
    "# To extract metek files:\n",
    "dname = '1908*.metek1'\n",
    "dloc = '/Users/heather/ICECAPS-ACE/Data/Flux_compressed'\n",
    "extract_out = '/Users/heather/ICECAPS-ACE/Data/'\n",
    "#extract_tar(dloc,extract_out,dname)\n",
    "\n",
    "# If extracted files already exist, just give the d loction:\n",
    "dpath = '/Users/heather/ICECAPS-ACE/Data/'\n",
    "log_metek = '/Users/heather/ICECAPS-ACE/log_metek.txt'\n",
    "\n",
    "# Start and stop date:\n",
    "start = dt.datetime(2019,8,1,16,0)\n",
    "stop = dt.datetime(2019,8,30,16,0)\n",
    "\n",
    "# Parse data into dataframe using the following function from fluxtower parse:\n",
    "m1_orig,m2_orig = extract_metek_data(start,stop,dpath,log_metek)"
   ]
  },
  {
   "cell_type": "code",
   "execution_count": null,
   "metadata": {},
   "outputs": [
    {
     "name": "stderr",
     "output_type": "stream",
     "text": [
      "Skipping line 1073: expected 10 fields, saw 12\n",
      "\n"
     ]
    }
   ],
   "source": [
    "# Get Licor data\n",
    "# If licor files don't already exsist, extract using the below:\n",
    "# To update raw data files: \n",
    "# rsync -azvp fluxtower@192.168.1.211:/home/data/fluxtower_data_transfer/ /Users/heather/ICECAPS-ACE/Data/.\n",
    "\n",
    "# To extract licor files:\n",
    "#dname = 'licor'\n",
    "#dloc = '/Users/heather/ICECAPS-ACE/Data/FLUX_compressed/'\n",
    "#extract_out = '/Users/heather/ICECAPS-ACE/temp_data/'\n",
    "#extract_tar(dloc,extract_out,dname)\n",
    "\n",
    "# If extracted files already exist, just give the d loction:\n",
    "dpath = '/Users/heather/ICECAPS-ACE/temp_data/home/data/'\n",
    "log_licor = '/Users/heather/ICECAPS-ACE/log_licor.txt'\n",
    "\n",
    "licor = extract_licor_data(start,stop,dpath,log_licor)"
   ]
  },
  {
   "cell_type": "code",
   "execution_count": null,
   "metadata": {},
   "outputs": [],
   "source": [
    "# Clean metek data\n",
    "m1 = clean_metek(m1_orig)\n",
    "m2 = clean_metek(m2_orig)"
   ]
  },
  {
   "cell_type": "code",
   "execution_count": null,
   "metadata": {},
   "outputs": [],
   "source": [
    "# Cross-wind temperature correction\n",
    "m1['T'] = Ts_sidewind_correction(m1['T'].astype(float),m1['x'].astype(float),m1['y'].astype(float),m1['z'].astype(float))\n",
    "m2['T'] = Ts_sidewind_correction(m2['T'].astype(float),m2['x'].astype(float),m2['y'].astype(float),m2['z'].astype(float))"
   ]
  },
  {
   "cell_type": "code",
   "execution_count": null,
   "metadata": {},
   "outputs": [],
   "source": [
    "# Rotate to average streamline for each 15 minute period. \n",
    "avp=15                                              # Averaging period in minutes\n",
    "m_rot = rotate_to_run(m1,avp)"
   ]
  },
  {
   "cell_type": "code",
   "execution_count": null,
   "metadata": {},
   "outputs": [],
   "source": [
    "# Calculate cospectral density and ogive function for each 15 minute period.. \n",
    "x = m_rot['w']\n",
    "y = m_rot['u']\n",
    "sf = 10.0 # Sampling frequency\n",
    "f,Csdxy,ogive = ogive(x, y, sf,avp)"
   ]
  },
  {
   "cell_type": "code",
   "execution_count": null,
   "metadata": {},
   "outputs": [],
   "source": [
    "# Plot co spectral density and ogive function.\n",
    "\n",
    "fig = plt.figure(figsize=(15,4))\n",
    "ax1 = fig.add_subplot(121)\n",
    "ax1.grid(True)\n",
    "for i in range(0,len(f)):\n",
    "    ax1.semilogx(f[i],Csdxy[i],label='cospectra')\n",
    "ax1.set_ylabel('Cospectral density')\n",
    "ax1.set_xlabel('Frequency (Hz)')\n",
    "#ax1.legend()\n",
    "\n",
    "ax2 = fig.add_subplot(122)\n",
    "ax2.grid(True)\n",
    "for i in range(0,len(f)):\n",
    "    ax2.semilogx(f[i],ogive[i],label='ogive function')\n",
    "ax2.set_ylabel('Ogive')\n",
    "ax2.set_xlabel('Frequency (Hz)')\n",
    "#ax2.legend()\n",
    "\n",
    "#ax.set_xlim(d1,d2)\n",
    "fig.tight_layout()\n",
    "\n"
   ]
  },
  {
   "cell_type": "code",
   "execution_count": null,
   "metadata": {},
   "outputs": [],
   "source": [
    "\n",
    "# Calculate sensible heat flux. \n",
    "\n",
    "w = m_rot['w']\n",
    "T = m_rot['T']\n",
    "\n",
    "SHF,std=shf(w,T,avp)\n",
    "\n"
   ]
  },
  {
   "cell_type": "code",
   "execution_count": null,
   "metadata": {},
   "outputs": [],
   "source": [
    "# Calculate latent heat flux\n",
    "T = licor['T']\n",
    "P = licor['P']\n",
    "Nconc = licor['H2OD']\n",
    "w = m_rot['w']\n",
    "LHF = lhf(w,T,P,Nconc,avp)"
   ]
  },
  {
   "cell_type": "code",
   "execution_count": null,
   "metadata": {},
   "outputs": [],
   "source": [
    "\n",
    "# Plot fluxes\n",
    "\n",
    "plot_times = pd.date_range(m_rot.index[0],m_rot.index[-1],freq='15min')\n",
    "\n",
    "fig = plt.figure(figsize=(8,4))\n",
    "ax1 = fig.add_subplot(211)\n",
    "ax1.grid(True)\n",
    "ax1.plot(plot_times,SHF)\n",
    "ax1.set_ylabel('SHF W/m2')\n",
    "ax1.axhline(0)\n",
    "#ax1.set_xlabel('Frequency (Hz)')\n",
    "#ax1.legend()\n",
    "\n",
    "ax2 = fig.add_subplot(212)\n",
    "ax2.grid(True)\n",
    "ax2.plot(plot_times,LHF)\n",
    "ax2.set_ylabel('LHF W/m2')\n",
    "ax2.axhline(0)\n",
    "#ax1.set_xlabel('Frequency (Hz)')\n",
    "#ax1.legend()\n",
    "\n",
    "#ax.set_xlim(d1,d2)\n",
    "fig.tight_layout()\n",
    "\n",
    "\n"
   ]
  },
  {
   "cell_type": "code",
   "execution_count": null,
   "metadata": {},
   "outputs": [],
   "source": [
    "# Use snow depth sensor to do absolute height correction"
   ]
  },
  {
   "cell_type": "code",
   "execution_count": null,
   "metadata": {},
   "outputs": [],
   "source": [
    "# Calculate bulk richardson number\n",
    "#Ri = richardson number\n",
    "#Rig = gradient richardson number: \n",
    "#       provides a measure of the balance between shear and bouyant forces \n",
    "#       and the resultant turbulent state of the atmosphere, based on mean \n",
    "#       wind and thermodynamic profiles. Negative Rig is an indication of \n",
    "#       buoyancy-generated turbulence, positive values are associated with \n",
    "#       stably stratified turbulence.\n",
    "# For simplicity, generally refer to Rig>1 as nonturbulent. \n",
    "\n",
    "# Rig = g/thetaV * (dthetaV/dz) / ((du**2/dz + dv**2/dz))\n",
    "# thetaV = virtual potential temperature\n",
    "\n",
    "# Approximate thetav with theta (potential temperature) for now. \n",
    "Rd = 287.0 # J/K/kg - gas constant of 1kg of dry air\n",
    "P0 = 100000.0 # Standard reference pressure, Pa\n",
    "\n",
    "# theta = T(P0/P)**(Rd/cp)\n",
    "\n",
    "\n"
   ]
  }
 ],
 "metadata": {
  "kernelspec": {
   "display_name": "Python 2",
   "language": "python",
   "name": "python2"
  },
  "language_info": {
   "codemirror_mode": {
    "name": "ipython",
    "version": 2
   },
   "file_extension": ".py",
   "mimetype": "text/x-python",
   "name": "python",
   "nbconvert_exporter": "python",
   "pygments_lexer": "ipython2",
   "version": "2.7.15"
  }
 },
 "nbformat": 4,
 "nbformat_minor": 2
}
