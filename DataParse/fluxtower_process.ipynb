{
 "cells": [
  {
   "cell_type": "code",
   "execution_count": 1,
   "metadata": {},
   "outputs": [],
   "source": [
    "from utils import *\n",
    "from fluxtower_parse import *\n",
    "import numpy as np      \n",
    "import datetime as dt\n",
    "from scipy.signal import medfilt, detrend, coherence, windows"
   ]
  },
  {
   "cell_type": "code",
   "execution_count": 74,
   "metadata": {},
   "outputs": [],
   "source": [
    "# Get Metek data\n",
    "\n",
    "# If metek files don't already exsist, extract using the below:\n",
    "\n",
    "# To update raw data files: \n",
    "# rsync -azvp fluxtower@192.168.1.211:/home/data/fluxtower_data_transfer/ /Users/heather/ICECAPS-ACE/Data/.\n",
    "\n",
    "# To extract metek files:\n",
    "#dname = 'metek'\n",
    "#dloc = '/Users/heather/ICECAPS-ACE/Data/'\n",
    "#extract_out = '/Users/heather/ICECAPS-ACE/temp_data/'\n",
    "#extract_tar(dloc,extract_out,dname)\n",
    "\n",
    "# If extracted files already exist, just give the d loction:\n",
    "dpath = '/Users/heather/ICECAPS-ACE/Data/'\n",
    "log_metek = '/Users/heather/ICECAPS-ACE/log_metek.txt'\n",
    "\n",
    "# Start and stop date:\n",
    "start = dt.datetime(2019,8,31,0,0)\n",
    "stop = dt.datetime(2019,9,1,0,0)\n",
    "\n",
    "# Parse data into dataframe using the following function from fluxtower parse:\n",
    "m1,m2 = extract_metek_data(start,stop,dpath,log_metek)"
   ]
  },
  {
   "cell_type": "code",
   "execution_count": 75,
   "metadata": {},
   "outputs": [],
   "source": [
    "# Clean Metek data\n",
    "# Based on clean_metek.m by IAM, 25/7/2014\n",
    "# metek = clean_metek(metek)\n",
    "# INPUT\n",
    "#  metek  - data strucure\n",
    "# OUTPUT\n",
    "#  metek  - data structure\n",
    "# wind compents and sonic temperature are cleaned up:\n",
    "# - the time series are filtered for outliers, these are replaced with  \n",
    "#   median filtered values\n",
    "# - missing values from error messages (NaNs) are then interpolated over? - not done yet\n",
    "\n",
    "\n",
    "# filter for clear outliers - replace with median filtered values\n",
    "#set limit at 3*standard deviation of vertical wind component\n",
    "\n",
    "jj = ~np.isnan(m1.z) # Not nan indices\n",
    "m1_sd = np.std(m1.z[jj]) # standard deviation of vertical wind component. \n",
    "\n",
    "jj = ~np.isnan(m2.z) # Not nan indices\n",
    "m2_sd = np.std(m2.z[jj]) # standard deviation of vertical wind component. \n",
    "\n",
    "# replace outliers with median filter\n",
    "def replace_outliers(var,sd):\n",
    "    var=var.astype(float)\n",
    "    jj = ~np.isnan(var) # Ignore nans\n",
    "    temp = var[jj]\n",
    "    mf = medfilt(temp,11)             # Get median filter\n",
    "    ii = np.abs(temp - mf) > 3*sd     # Get outliers, where greated than 3 Sd's from median\n",
    "    temp[ii] = mf[ii]                 # Replace these outliers with the median\n",
    "    var_clean = var\n",
    "    var_clean[jj] = temp      # Put back into orginal array/\n",
    "    \n",
    "    return var_clean\n",
    "\n",
    "m1['x_clean']=replace_outliers(m1['x'],m1_sd)\n",
    "m1['y_clean']=replace_outliers(m1['y'],m1_sd)\n",
    "m1['z_clean']=replace_outliers(m1['z'],m1_sd)\n",
    "m1['T_clean']=replace_outliers(m1['T'],m1_sd)\n",
    "\n",
    "m2['x_clean']=replace_outliers(m2['x'],m2_sd)\n",
    "m2['y_clean']=replace_outliers(m2['y'],m2_sd)\n",
    "m2['z_clean']=replace_outliers(m2['z'],m2_sd)\n",
    "m2['T_clean']=replace_outliers(m2['T'],m2_sd)\n",
    "\n",
    "# patch up missing data from records with error messages by interpolation\n",
    "# metek output should be 10Hz\n",
    "# 10Hz = 0.1s = 100 ms\n",
    "m1 = m1.resample('100L').mean().interpolate()\n",
    "m2 = m2.resample('100L').mean().interpolate()\n",
    "#f.set_index('DateTime')['Value'].resample('1H').mean().interpolate()\n"
   ]
  },
  {
   "cell_type": "code",
   "execution_count": 76,
   "metadata": {},
   "outputs": [],
   "source": [
    "# Do cross wind temperature correction\n",
    "# Adapted from Ts_sidewind_correction.m by IMB July 2007\n",
    "#     Correct contamination of sonic temperature measurement for lengthening of\n",
    "#     sonic path by sidewind. \n",
    "#\n",
    "#function T = Ts_sidewind_correction(Ts,u,v,w,model);\n",
    "# INPUTS\n",
    "#  Ts    : sonic temperature (K)\n",
    "#  u,v,w : wind components in sonic measurement frame (before any rotations,\n",
    "#          motion correction, etc) (m/s)\n",
    "\n",
    "# OUTPUT\n",
    "#  T     : corrected temperature (K)\n",
    "#\n",
    "#     Correction follows van Dijk et al. 2004: The\n",
    "#     principles of surface flux physics: theory, practice and description of\n",
    "#     the ECPACK library (www.met.wau.nl/projects/jep). See also: Liu et al.\n",
    "#     2001: BLM, 100, 459-468, and Schotanus et al. 1983: BLM, 26, 81-93.\n",
    "\n",
    "def Ts_sidewind_correction(Ts,u,v,w):\n",
    "    vn2 = (3/4)*(u**2 + v**2) + 0.5*w**2\n",
    "    T = Ts + vn2/403\n",
    "    return T\n",
    "\n",
    "m1['T_corrected'] = Ts_sidewind_correction(m1['T_clean'].astype(float),m1['x'].astype(float),m1['y'].astype(float),m1['z'].astype(float))\n",
    "m2['T_corrected'] = Ts_sidewind_correction(m2['T_clean'].astype(float),m2['x'].astype(float),m2['y'].astype(float),m2['z'].astype(float))"
   ]
  },
  {
   "cell_type": "code",
   "execution_count": 77,
   "metadata": {},
   "outputs": [],
   "source": [
    "# Correct tilt and align with horizontal streamlinge over a single run (~20mins)\n",
    "# Adapted from rotate_to_run.m by IMB July 2006\n",
    "#% references:\n",
    "#%  Wilczak et al. 2001: sonic anemometer tilt corrections. BLM, 99, 127-150\n",
    "#%  (but beware typos in equations)\n",
    "#%  Kaimal & Finnigan, 1994: Atmospheric Boundary Layer Flows: Their\n",
    "#%  Structure and Measurement. Oxford University Press\n",
    "#%  van Dijk et al. 2004: The principles of surface flux physics: theory,\n",
    "#%  practice and description of the ECPACK library\n",
    "#%  www.met.wau.nl/projects/jep\n",
    "\n",
    "def rotate_to_run(um,vm,wm):\n",
    "    #% First rotate to align x-axis with mean wind direction in sonic's\n",
    "    #% reference frame\n",
    "    \n",
    "    theta=np.arctan2(np.mean(vm),np.mean(um))\n",
    "    u1 = um*np.cos(theta) + vm*np.sin(theta)\n",
    "    v1 = -um*np.sin(theta) + vm*np.cos(theta)\n",
    "    w1 = wm\n",
    "\n",
    "    #% Next rotate u and w so that x-axis lies along mean streamline and \n",
    "    #% mean(w) is zero\n",
    "\n",
    "    phi = np.arctan2(np.mean(w1),np.mean(u1))\n",
    "    u2 = u1*np.cos(phi) + w1*np.sin(phi)\n",
    "    v2 = v1\n",
    "    w2=  -u1*np.sin(phi) + w1*np.cos(phi)\n",
    "\n",
    "    # Theta is angle of rotation um-to-vm (anticlockwise or righthanded)\n",
    "    # to aign u with mean wind (degrees)\n",
    "    theta = theta*180/np.pi\n",
    "\n",
    "    # phi is tilt angle (+ve tilts x-axis upwards) to align x-axis with\n",
    "    # mean streamline and force <w>=0\n",
    "    phi = phi*180/np.pi\n",
    "\n",
    "    # Output wind components in streamline oriented reference frame, theta and phi\n",
    "\n",
    "    return u2,v2,w2,theta,phi\n",
    "\n",
    "um = m1.x_clean # measured wind components in sonic reference fram\n",
    "vm = m1.y_clean\n",
    "wm = m1.z_clean\n",
    "\n",
    "m1['u'],m1['v'],m1['w'],theta,phi = rotate_to_run(m1.x_clean,m1.y_clean,m1.z_clean)\n",
    "m2['u'],m2['v'],m2['w'],theta,phi = rotate_to_run(m2.x_clean,m2.y_clean,m2.z_clean)"
   ]
  },
  {
   "cell_type": "code",
   "execution_count": null,
   "metadata": {},
   "outputs": [],
   "source": [
    "# Use snow depth sensor to do absolute height correction"
   ]
  },
  {
   "cell_type": "code",
   "execution_count": null,
   "metadata": {},
   "outputs": [],
   "source": [
    "# Calculate bulk richardson number"
   ]
  },
  {
   "cell_type": "code",
   "execution_count": 78,
   "metadata": {},
   "outputs": [],
   "source": [
    "# Calculate cospectral density and ogive function. \n",
    "\n",
    "# Calculated using mathematical methods, fast fourie transform\n",
    "# FFT gives the amplitudes of variation for different frequencies\n",
    "\n",
    "# Co-spectra: how much different sized eddies contribute to the covariance of two variables - the product of the fft of two variables. \n",
    "\n",
    "# Ogive = cumulative co-spectrum. Use to find the point after which there is no flux contribution. Averaging peroiod should be longer\n",
    "# than this so large eddies aren't lost, but otherwise as short as possible so that large scale changes (atmospheric) aren't included. \n",
    "\n",
    "# Choose your two variables. \n",
    "x = m1['T_corrected']\n",
    "y = m1['w']\n",
    "\n",
    "sf = 0.1 # Sampling frequency\n",
    "m = len(x) # Number of points used in fourier transfer, can be length of time series or less.\n",
    "noverlap = 1 # Number of points that each fft overlaps. \n",
    "\n",
    "\n",
    "\n",
    "\n"
   ]
  },
  {
   "cell_type": "code",
   "execution_count": 83,
   "metadata": {},
   "outputs": [],
   "source": [
    "\n",
    "# Calculate the cospectral density\n",
    "# Uses linear detrend.\n",
    "# Uses boxcar (rectangular) window.\n",
    "window = windows.boxcar(m)\n",
    "f,Cxy = coherence(x, y, sf, detrend='linear', window='boxcar',noverlap=noverlap)#,nperseg=m)\n",
    "\n",
    "# Ogive\n",
    "\n",
    "n = len(Cxy)\n",
    "ogive = np.zeros(n)\n",
    "ogive[0]=(Cxy*df)[0]\n",
    "for i in range(1,n):\n",
    "    k=n-1-i\n",
    "    ogive[k]=ogive[k+1]+(Cxy*df)[k]"
   ]
  },
  {
   "cell_type": "code",
   "execution_count": 84,
   "metadata": {},
   "outputs": [
    {
     "data": {
      "image/png": "[encoded data removed]",
      "text/plain": [
       "<Figure size 1080x288 with 2 Axes>"
      ]
     },
     "metadata": {
      "needs_background": "light"
     },
     "output_type": "display_data"
    }
   ],
   "source": [
    "\n",
    "\n",
    "fig = plt.figure(figsize=(15,4))\n",
    "ax1 = fig.add_subplot(121)\n",
    "ax1.grid(True)\n",
    "ax1.semilogx(f,Cxy,label='cospectra')\n",
    "ax1.set_ylabel('Coherence, dimensionless?')\n",
    "ax1.set_xlabel('Frequency (Hz)')\n",
    "ax1.legend()\n",
    "\n",
    "ax2 = fig.add_subplot(122)\n",
    "ax2.grid(True)\n",
    "ax2.semilogx(f,ogive,label='ogive function')\n",
    "ax2.set_ylabel('Ogive function, dimensionless?')\n",
    "ax2.set_xlabel('Frequency (Hz)')\n",
    "ax2.legend()\n",
    "\n",
    "#ax.set_xlim(d1,d2)\n",
    "fig.tight_layout()\n",
    "\n"
   ]
  },
  {
   "cell_type": "code",
   "execution_count": 60,
   "metadata": {},
   "outputs": [
    {
     "data": {
      "text/plain": [
       "array([0.        , 0.00039063, 0.00078125, 0.00117188, 0.0015625 ,\n",
       "       0.00195312, 0.00234375, 0.00273438, 0.003125  , 0.00351563,\n",
       "       0.00390625, 0.00429688, 0.0046875 , 0.00507813, 0.00546875,\n",
       "       0.00585938, 0.00625   , 0.00664063, 0.00703125, 0.00742188,\n",
       "       0.0078125 , 0.00820313, 0.00859375, 0.00898438, 0.009375  ,\n",
       "       0.00976562, 0.01015625, 0.01054688, 0.0109375 , 0.01132813,\n",
       "       0.01171875, 0.01210938, 0.0125    , 0.01289063, 0.01328125,\n",
       "       0.01367188, 0.0140625 , 0.01445313, 0.01484375, 0.01523438,\n",
       "       0.015625  , 0.01601563, 0.01640625, 0.01679687, 0.0171875 ,\n",
       "       0.01757812, 0.01796875, 0.01835938, 0.01875   , 0.01914063,\n",
       "       0.01953125, 0.01992188, 0.0203125 , 0.02070313, 0.02109375,\n",
       "       0.02148438, 0.021875  , 0.02226563, 0.02265625, 0.02304688,\n",
       "       0.0234375 , 0.02382813, 0.02421875, 0.02460938, 0.025     ,\n",
       "       0.02539062, 0.02578125, 0.02617188, 0.0265625 , 0.02695313,\n",
       "       0.02734375, 0.02773438, 0.028125  , 0.02851563, 0.02890625,\n",
       "       0.02929688, 0.0296875 , 0.03007813, 0.03046875, 0.03085938,\n",
       "       0.03125   , 0.03164062, 0.03203125, 0.03242188, 0.0328125 ,\n",
       "       0.03320312, 0.03359375, 0.03398438, 0.034375  , 0.03476563,\n",
       "       0.03515625, 0.03554687, 0.0359375 , 0.03632813, 0.03671875,\n",
       "       0.03710938, 0.0375    , 0.03789063, 0.03828125, 0.03867188,\n",
       "       0.0390625 , 0.03945313, 0.03984375, 0.04023438, 0.040625  ,\n",
       "       0.04101562, 0.04140625, 0.04179688, 0.0421875 , 0.04257813,\n",
       "       0.04296875, 0.04335938, 0.04375   , 0.04414063, 0.04453125,\n",
       "       0.04492188, 0.0453125 , 0.04570313, 0.04609375, 0.04648438,\n",
       "       0.046875  , 0.04726563, 0.04765625, 0.04804688, 0.0484375 ,\n",
       "       0.04882812, 0.04921875, 0.04960938, 0.05      ])"
      ]
     },
     "execution_count": 60,
     "metadata": {},
     "output_type": "execute_result"
    }
   ],
   "source": [
    "f"
   ]
  },
  {
   "cell_type": "code",
   "execution_count": 78,
   "metadata": {},
   "outputs": [
    {
     "data": {
      "text/plain": [
       "42.666666666666664"
      ]
     },
     "execution_count": 78,
     "metadata": {},
     "output_type": "execute_result"
    }
   ],
   "source": [
    "(1/f[1])/60"
   ]
  },
  {
   "cell_type": "code",
   "execution_count": 70,
   "metadata": {},
   "outputs": [
    {
     "data": {
      "text/plain": [
       "array([0.        , 0.00039063, 0.00078125, 0.00117188, 0.0015625 ,\n",
       "       0.00195312, 0.00234375, 0.00273438, 0.003125  , 0.00351563,\n",
       "       0.00390625, 0.00429688, 0.0046875 , 0.00507813, 0.00546875,\n",
       "       0.00585938, 0.00625   , 0.00664063, 0.00703125, 0.00742188,\n",
       "       0.0078125 , 0.00820313, 0.00859375, 0.00898438, 0.009375  ,\n",
       "       0.00976562, 0.01015625, 0.01054688, 0.0109375 , 0.01132813,\n",
       "       0.01171875, 0.01210938, 0.0125    , 0.01289063, 0.01328125,\n",
       "       0.01367188, 0.0140625 , 0.01445313, 0.01484375, 0.01523438,\n",
       "       0.015625  , 0.01601563, 0.01640625, 0.01679687, 0.0171875 ,\n",
       "       0.01757812, 0.01796875, 0.01835938, 0.01875   , 0.01914063,\n",
       "       0.01953125, 0.01992188, 0.0203125 , 0.02070313, 0.02109375,\n",
       "       0.02148438, 0.021875  , 0.02226563, 0.02265625, 0.02304688,\n",
       "       0.0234375 , 0.02382813, 0.02421875, 0.02460938, 0.025     ,\n",
       "       0.02539062, 0.02578125, 0.02617188, 0.0265625 , 0.02695313,\n",
       "       0.02734375, 0.02773438, 0.028125  , 0.02851563, 0.02890625,\n",
       "       0.02929688, 0.0296875 , 0.03007813, 0.03046875, 0.03085938,\n",
       "       0.03125   , 0.03164062, 0.03203125, 0.03242188, 0.0328125 ,\n",
       "       0.03320312, 0.03359375, 0.03398438, 0.034375  , 0.03476563,\n",
       "       0.03515625, 0.03554687, 0.0359375 , 0.03632813, 0.03671875,\n",
       "       0.03710938, 0.0375    , 0.03789063, 0.03828125, 0.03867188,\n",
       "       0.0390625 , 0.03945313, 0.03984375, 0.04023438, 0.040625  ,\n",
       "       0.04101562, 0.04140625, 0.04179688, 0.0421875 , 0.04257813,\n",
       "       0.04296875, 0.04335938, 0.04375   , 0.04414063, 0.04453125,\n",
       "       0.04492188, 0.0453125 , 0.04570313, 0.04609375, 0.04648438,\n",
       "       0.046875  , 0.04726563, 0.04765625, 0.04804688, 0.0484375 ,\n",
       "       0.04882812, 0.04921875, 0.04960938, 0.05      ])"
      ]
     },
     "execution_count": 70,
     "metadata": {},
     "output_type": "execute_result"
    }
   ],
   "source": [
    "f"
   ]
  },
  {
   "cell_type": "code",
   "execution_count": null,
   "metadata": {},
   "outputs": [],
   "source": []
  }
 ],
 "metadata": {
  "kernelspec": {
   "display_name": "Python 2",
   "language": "python",
   "name": "python2"
  },
  "language_info": {
   "codemirror_mode": {
    "name": "ipython",
    "version": 2
   },
   "file_extension": ".py",
   "mimetype": "text/x-python",
   "name": "python",
   "nbconvert_exporter": "python",
   "pygments_lexer": "ipython2",
   "version": "2.7.15"
  }
 },
 "nbformat": 4,
 "nbformat_minor": 2
}
