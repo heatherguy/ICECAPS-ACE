{
 "cells": [
  {
   "cell_type": "code",
   "execution_count": 1,
   "metadata": {},
   "outputs": [],
   "source": [
    "from utils import *\n",
    "from fluxtower_parse import *\n",
    "import numpy as np       \n",
    "import datetime as dt    \n"
   ]
  },
  {
   "cell_type": "code",
   "execution_count": 3,
   "metadata": {},
   "outputs": [],
   "source": [
    "# To update raw data files: \n",
    "# rsync -azvp fluxtower@192.168.1.196:/home/fluxtower/ACE_compressed /Users/heather/ICECAPS-ACE/Data/.\n",
    "# rsync -azvp fluxtower@192.168.1.211:/home/data/fluxtower_data_transfer/ /Users/heather/ICECAPS-ACE/Data/FLUX_compressed/.\n",
    "\n",
    "# Data names: \n",
    "# HMP1: 2m T/RH\n",
    "# HMP2: 4m T/RH\n",
    "# HMP3: 8m T/RH\n",
    "# HMP4: 15m T/RH\n",
    "# metek1: 2m 3D sonic\n",
    "# metek2: 15m 3D sonic\n",
    "# licor: H2O and CO2 analyzer\n",
    "# KT15: Snow surface temp\n",
    "# ventus1: 4m 2D sonic\n",
    "# ventus2: 8m 2D sonic\n",
    "# SnD: Snow depth sensor.\n",
    "\n",
    "# What data do you want to get?\n",
    "dname = 'metek2'\n",
    "\n",
    "#7,6,5,\n",
    "\n",
    "# Where are the raw .tar files?\n",
    "#dloc = '/Users/heather/ICECAPS-ACE/Data/FLUX_compressed/'\n",
    "dloc = '/Volumes/Data/ICECAPSarchive/fluxtower/raw_zipped/'\n",
    "\n",
    "\n",
    "# Where do you want to store the extracted .tar files? \n",
    "#extract_out = '/Users/heather/ICECAPS-ACE/temp_data/'\n",
    "extract_out = '/Volumes/Data/ICECAPSarchive/fluxtower/raw_extracted/Metek/'\n",
    "\n",
    "# Extract all tar files. \n",
    "extract_tar(dloc,extract_out,dname)\n"
   ]
  },
  {
   "cell_type": "code",
   "execution_count": 8,
   "metadata": {},
   "outputs": [],
   "source": [
    "# Parse data into dataframe using one of the following functions \n",
    "# from fluxtower parse:\n",
    "# KT = extract_KT_data(start,stop,dpath,logf)\n",
    "# SnD = extract_snd_data(start,stop,dpath,log_snd)\n",
    "# HMP = extract_HMP_data(name, start,stop,dpath,logf)\n",
    "# v1,v2 = extract_ventus_data(start,stop,dpath,log_ventus)\n",
    "# m1,m2 = extract_metek_data(start,stop,dpath,log_metek)\n",
    "# licor = extract_licor_data(start,stop,dpath,log_licor)\n",
    "\n",
    "# Start and stop date:\n",
    "start = dt.datetime(2019,7,1,0,0)\n",
    "stop = dt.datetime(2019,9,19,12,0)\n",
    "\n",
    "# Data location:\n",
    "dpath= '/Users/heather/ICECAPS-ACE/temp_data/home/data/'\n",
    "\n",
    "# Log data parsing issues here: \n",
    "logf = '/Users/heather/ICECAPS-ACE/log_snd.txt'\n",
    "\n",
    "#HMP1 = extract_HMP_data('HMP1',start,stop,dpath,logf)\n",
    "\n",
    "snd=extract_snd_data(start,stop,dpath,logf)"
   ]
  }
 ],
 "metadata": {
  "kernelspec": {
   "display_name": "Python 2",
   "language": "python",
   "name": "python2"
  },
  "language_info": {
   "codemirror_mode": {
    "name": "ipython",
    "version": 2
   },
   "file_extension": ".py",
   "mimetype": "text/x-python",
   "name": "python",
   "nbconvert_exporter": "python",
   "pygments_lexer": "ipython2",
   "version": "2.7.15"
  }
 },
 "nbformat": 4,
 "nbformat_minor": 2
}
