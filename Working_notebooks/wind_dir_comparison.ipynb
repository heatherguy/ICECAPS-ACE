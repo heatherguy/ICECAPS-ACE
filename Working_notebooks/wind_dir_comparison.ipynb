{
 "cells": [
  {
   "cell_type": "code",
   "execution_count": 1,
   "metadata": {},
   "outputs": [],
   "source": [
    "# Import things\n",
    "%matplotlib inline\n",
    "import matplotlib\n",
    "#matplotlib.use('Agg')\n",
    "\n",
    "import numpy as np\n",
    "import datetime as dt\n",
    "import matplotlib.pyplot as plt\n",
    "import matplotlib.dates as md\n",
    "import pandas as pd\n",
    "from matplotlib import rcParams\n",
    "import os\n",
    "import glob\n",
    "from scipy import io\n",
    "\n",
    "import sys\n",
    "sys.path.append('/Users/heather/ICECAPS-ACE/DataParse/')\n",
    "\n",
    "from ace_parse import *\n",
    "from utils import * \n",
    "\n",
    "# Supress warnings for sake of log file\n",
    "import warnings\n",
    "warnings.filterwarnings(\"ignore\")\n",
    "\n",
    "# Plotting preferences\n",
    "\n",
    "rcParams['xtick.direction'] = 'in'\n",
    "rcParams['ytick.direction'] = 'in'\n",
    "rcParams.update({'font.size': 14}) \n",
    "rcParams['axes.titlepad'] = 14 \n",
    "rcParams['xtick.major.pad']='10'\n",
    "rcParams['ytick.major.pad']='10'\n",
    "myFmt = md.DateFormatter('%H/%d')\n",
    "rule = md.HourLocator(interval=12)"
   ]
  },
  {
   "cell_type": "code",
   "execution_count": 2,
   "metadata": {},
   "outputs": [],
   "source": [
    "# Can compare v2 with NoAA met (close in elevation.)"
   ]
  },
  {
   "cell_type": "code",
   "execution_count": 4,
   "metadata": {},
   "outputs": [],
   "source": [
    "\n",
    "\n",
    "def get_ventus(start,stop,d_loc,name):\n",
    "    f_date_list = pd.date_range(start.date(),stop.date(),freq='1D')\n",
    "    out = pd.DataFrame(columns=['date','wsd','wdir','T','Checksum','status'])\n",
    "    for date in f_date_list:\n",
    "        f = d_loc + r'%s_%s'%(name,str(date.date()))\n",
    "        try:\n",
    "            data = pd.read_csv(f,parse_dates=[0],index_col=[0])\n",
    "        except:\n",
    "            print('No data for %s'%str(date.date()))\n",
    "            continue\n",
    "\n",
    "        out = out.append(data,sort=True)    \n",
    "    \n",
    "    # Get rid of any duplicates\n",
    "    out = out[~out.index.duplicated()]   \n",
    "    # Crop to datetime\n",
    "    out=out[start:stop]\n",
    "    \n",
    "    # Resample to one minutely\n",
    "    out = out.resample(rule = '1min', how='mean')\n",
    "    \n",
    "    # Fill any missing minutes with nans\n",
    "    new_index = pd.date_range(out.index[0],out.index[-1] , freq='min')\n",
    "    out = out.reindex(new_index)\n",
    "    \n",
    "    return out"
   ]
  },
  {
   "cell_type": "code",
   "execution_count": 5,
   "metadata": {},
   "outputs": [
    {
     "name": "stdout",
     "output_type": "stream",
     "text": [
      "No data for 2019-08-10\n"
     ]
    }
   ],
   "source": [
    "# Get v2\n",
    "d_loc = '/Volumes/Data/ICECAPSarchive/fluxtower/processed/ventus/'\n",
    "name='v2'\n",
    "start = dt.datetime(2019,8,1,0,0)\n",
    "stop = dt.datetime(2019,8,31,23,59,0)\n",
    "\n",
    "v2 = get_ventus(start,stop,d_loc,name)\n"
   ]
  },
  {
   "cell_type": "code",
   "execution_count": 29,
   "metadata": {},
   "outputs": [
    {
     "name": "stdout",
     "output_type": "stream",
     "text": [
      "No data for 2019-08-10\n"
     ]
    }
   ],
   "source": [
    "v1 = get_ventus(start,stop,d_loc,'v1')"
   ]
  },
  {
   "cell_type": "code",
   "execution_count": 6,
   "metadata": {},
   "outputs": [],
   "source": [
    "# Get met data\n",
    "\n",
    "dloc = '/Volumes/Data/ICECAPSarchive/Summit_Met/'\n",
    "years = ['2019']\n",
    "months = ['08']\n",
    "\n",
    "met=pd.DataFrame()\n",
    "\n",
    "for year in years:\n",
    "    for month in months:\n",
    "        w_dloc = '/Volumes/Data/ICECAPSarchive/Summit_Met/met_sum_insitu_1_obop_minute_%s_%s.txt'%(year,month)\n",
    "        met = met.append(get_NOAA_met(w_dloc))\n",
    "\n"
   ]
  },
  {
   "cell_type": "code",
   "execution_count": 8,
   "metadata": {},
   "outputs": [
    {
     "data": {
      "text/plain": [
       "2019-08-01 00:00:00    163.0\n",
       "2019-08-01 00:01:00    162.0\n",
       "2019-08-01 00:02:00    161.0\n",
       "2019-08-01 00:03:00    161.0\n",
       "2019-08-01 00:04:00    162.0\n",
       "                       ...  \n",
       "2019-08-31 23:55:00     69.0\n",
       "2019-08-31 23:56:00     68.0\n",
       "2019-08-31 23:57:00     69.0\n",
       "2019-08-31 23:58:00     69.0\n",
       "2019-08-31 23:59:00     70.0\n",
       "Freq: T, Name: wd, Length: 44640, dtype: float64"
      ]
     },
     "execution_count": 8,
     "metadata": {},
     "output_type": "execute_result"
    }
   ],
   "source": [
    "met['wd']"
   ]
  },
  {
   "cell_type": "code",
   "execution_count": 10,
   "metadata": {},
   "outputs": [
    {
     "data": {
      "text/plain": [
       "2019-08-01 00:00:00    180.666667\n",
       "2019-08-01 00:01:00    179.766667\n",
       "2019-08-01 00:02:00    180.166667\n",
       "2019-08-01 00:03:00    181.183333\n",
       "2019-08-01 00:04:00    181.533333\n",
       "                          ...    \n",
       "2019-08-31 23:55:00     83.881356\n",
       "2019-08-31 23:56:00     84.383333\n",
       "2019-08-31 23:57:00     84.366667\n",
       "2019-08-31 23:58:00     85.400000\n",
       "2019-08-31 23:59:00     89.000000\n",
       "Freq: T, Name: wdir, Length: 44640, dtype: float64"
      ]
     },
     "execution_count": 10,
     "metadata": {},
     "output_type": "execute_result"
    }
   ],
   "source": [
    "v2['wdir']"
   ]
  },
  {
   "cell_type": "code",
   "execution_count": 34,
   "metadata": {},
   "outputs": [
    {
     "data": {
      "text/plain": [
       "2019-08-01 00:00:00    185.300000\n",
       "2019-08-01 00:01:00    184.916667\n",
       "2019-08-01 00:02:00    183.833333\n",
       "2019-08-01 00:03:00    185.983333\n",
       "2019-08-01 00:04:00    187.833333\n",
       "                          ...    \n",
       "2019-08-31 23:55:00     85.300000\n",
       "2019-08-31 23:56:00     86.216667\n",
       "2019-08-31 23:57:00     85.733333\n",
       "2019-08-31 23:58:00     86.366667\n",
       "2019-08-31 23:59:00     83.000000\n",
       "Freq: T, Name: wdir, Length: 44640, dtype: float64"
      ]
     },
     "execution_count": 34,
     "metadata": {},
     "output_type": "execute_result"
    }
   ],
   "source": [
    "v1['wdir']"
   ]
  },
  {
   "cell_type": "code",
   "execution_count": 35,
   "metadata": {},
   "outputs": [],
   "source": [
    "diff_v2 = v2['wdir'] - met['wd']\n",
    "diff_v1 = v1['wdir'] - met['wd']"
   ]
  },
  {
   "cell_type": "code",
   "execution_count": 36,
   "metadata": {},
   "outputs": [
    {
     "data": {
      "text/plain": [
       "<matplotlib.axes._subplots.AxesSubplot at 0x1225b39d0>"
      ]
     },
     "execution_count": 36,
     "metadata": {},
     "output_type": "execute_result"
    },
    {
     "data": {
      "image/png": "[encoded data removed]",
      "text/plain": [
       "<Figure size 432x288 with 1 Axes>"
      ]
     },
     "metadata": {
      "needs_background": "light"
     },
     "output_type": "display_data"
    }
   ],
   "source": [
    "diff_v2[np.abs(diff_v2)<50].plot()"
   ]
  },
  {
   "cell_type": "code",
   "execution_count": 37,
   "metadata": {},
   "outputs": [
    {
     "data": {
      "text/plain": [
       "<matplotlib.axes._subplots.AxesSubplot at 0x122a51ad0>"
      ]
     },
     "execution_count": 37,
     "metadata": {},
     "output_type": "execute_result"
    },
    {
     "data": {
      "image/png": "[encoded data removed]",
      "text/plain": [
       "<Figure size 432x288 with 1 Axes>"
      ]
     },
     "metadata": {
      "needs_background": "light"
     },
     "output_type": "display_data"
    }
   ],
   "source": [
    "diff_v1[np.abs(diff_v1)<50].plot()"
   ]
  },
  {
   "cell_type": "code",
   "execution_count": 38,
   "metadata": {},
   "outputs": [
    {
     "data": {
      "text/plain": [
       "18.06666666666667"
      ]
     },
     "execution_count": 38,
     "metadata": {},
     "output_type": "execute_result"
    }
   ],
   "source": [
    "diff_v2.median()"
   ]
  },
  {
   "cell_type": "code",
   "execution_count": 39,
   "metadata": {},
   "outputs": [
    {
     "data": {
      "text/plain": [
       "18.08333333333333"
      ]
     },
     "execution_count": 39,
     "metadata": {},
     "output_type": "execute_result"
    }
   ],
   "source": [
    "diff_v1.median()"
   ]
  },
  {
   "cell_type": "code",
   "execution_count": 43,
   "metadata": {},
   "outputs": [
    {
     "data": {
      "text/plain": [
       "0.013333333333321207"
      ]
     },
     "execution_count": 43,
     "metadata": {},
     "output_type": "execute_result"
    }
   ],
   "source": [
    "((v1['wdir']-18.07) - met['wd']).median()"
   ]
  },
  {
   "cell_type": "code",
   "execution_count": null,
   "metadata": {},
   "outputs": [],
   "source": []
  }
 ],
 "metadata": {
  "kernelspec": {
   "display_name": "Python 3",
   "language": "python",
   "name": "python3"
  },
  "language_info": {
   "codemirror_mode": {
    "name": "ipython",
    "version": 3
   },
   "file_extension": ".py",
   "mimetype": "text/x-python",
   "name": "python",
   "nbconvert_exporter": "python",
   "pygments_lexer": "ipython3",
   "version": "3.7.4"
  }
 },
 "nbformat": 4,
 "nbformat_minor": 4
}
