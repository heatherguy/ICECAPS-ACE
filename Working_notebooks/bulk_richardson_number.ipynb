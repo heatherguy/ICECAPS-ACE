{
 "cells": [
  {
   "cell_type": "code",
   "execution_count": 25,
   "metadata": {},
   "outputs": [],
   "source": [
    "from utils import *\n",
    "from fluxtower_parse import *\n",
    "from eddy_flux import * \n",
    "import numpy as np      \n",
    "import datetime as dt\n",
    "from scipy.signal import medfilt, detrend, coherence, windows\n",
    "import os\n"
   ]
  },
  {
   "cell_type": "code",
   "execution_count": 26,
   "metadata": {},
   "outputs": [],
   "source": [
    "# Calculate bulk richardson number\n",
    "#Ri = richardson number\n",
    "#Rig = gradient richardson number: \n",
    "#       provides a measure of the balance between shear and bouyant forces \n",
    "#       and the resultant turbulent state of the atmosphere, based on mean \n",
    "#       wind and thermodynamic profiles. Negative Rig is an indication of \n",
    "#       buoyancy-generated turbulence, positive values are associated with \n",
    "#       stably stratified turbulence.\n",
    "# For simplicity, generally refer to Rig>1 as nonturbulent. \n",
    "\n",
    "# Rig = g/T * (dthetaV/dz) / ((du/dz)**2 + (dv/dz)**2)\n",
    "# thetaV = virtual potential temperature\n",
    "# T = virtual absolute temperature. \n",
    "\n",
    "# Bulk Richardson Number\n",
    "#hen measuring wind shear and temperature gradients, meteorologists approximate the gradients by measurements at discrete heights:\n",
    "#This is the form most frequently used. The values of the critical Richardson\n",
    "#number don’t apply to these finite differences across thick layers. The thinner the\n",
    "#layer, the closer the value to the theory.\n",
    "\n",
    "Rb = (g * dthetav * dz) / (thetav * (du**2 + dv**2)) \n",
    "\n",
    "# Approximate thetav with theta (potential temperature) for now. \n",
    "\n",
    "# Constants\n",
    "Rd = 287.0 # J/K/kg - gas constant of 1kg of dry air\n",
    "P0 = 100000.0 # Standard reference pressure, Pa\n",
    "g = 9.8 # m/s, gravitational acceleration.\n",
    "cp = 1005.7 # j/kg/K, assuming dry air at 273K\n",
    "\n",
    "# Difference between M1 and M2\n",
    "dz = 11.3 # m\n"
   ]
  },
  {
   "cell_type": "code",
   "execution_count": 27,
   "metadata": {},
   "outputs": [
    {
     "name": "stdout",
     "output_type": "stream",
     "text": [
      "2019-08-20\n"
     ]
    }
   ],
   "source": [
    "# We need: \n",
    "# M1, winds and T\n",
    "# M2, winds and T \n",
    "# Pressure value - from licor\n",
    "\n",
    "# Input processed data location\n",
    "d_loc = '/Volumes/Data/ICECAPSarchive/fluxtower/processed/'\n",
    "\n",
    "# Output location\n",
    "out_loc = '/Users/heather/ICECAPS-ACE/Processed/'\n",
    "\n",
    "# Start and stop date:\n",
    "start = dt.datetime(2019,8,20,0,0)\n",
    "stop = dt.datetime(2019,8,21,0,0)\n",
    "\n",
    "# Days to loop through\n",
    "days = pd.date_range(start,stop,freq='1D')\n",
    "\n",
    "## Start loop ##\n",
    "#for day in days:\n",
    "day = days[0]\n",
    "day_str = str(day.date()) \n",
    "print(day_str)\n",
    "    \n",
    "# Get metek data\n",
    "if os.path.isfile(d_loc+'metek/metek1_%s'%day_str):\n",
    "    m1_orig = pd.read_csv(d_loc+'metek/metek1_%s'%day_str, index_col=0, parse_dates=[0])\n",
    "    if m1_orig.empty:\n",
    "        print('Error: File empty, '+day_str)\n",
    "else:\n",
    "    print('Error: File empty, '+day_str)\n",
    "    \n",
    "if os.path.isfile(d_loc+'metek/metek2_%s'%day_str):\n",
    "    m2_orig = pd.read_csv(d_loc+'metek/metek2_%s'%day_str, index_col=0, parse_dates=[0])\n",
    "    if m2_orig.empty:\n",
    "        print('Error: File empty, '+day_str)\n",
    "else:\n",
    "    print('Error: File empty, '+day_str)\n",
    "\n",
    "\n",
    "# Clean metek data \n",
    "m1 = clean_metek(m1_orig)\n",
    "m2 = clean_metek(m2_orig)\n",
    "\n",
    "# Cross-wind temperature correction\n",
    "m1['T'] = Ts_sidewind_correction(m1['T'].astype(float),m1['x'].astype(float),m1['y'].astype(float),m1['z'].astype(float))\n",
    "m2['T'] = Ts_sidewind_correction(m2['T'].astype(float),m2['x'].astype(float),m2['y'].astype(float),m2['z'].astype(float))\n"
   ]
  },
  {
   "cell_type": "code",
   "execution_count": 46,
   "metadata": {},
   "outputs": [],
   "source": [
    "# Get pressure from licor\n",
    "# Get licor data\n",
    "if os.path.isfile(d_loc+'LiCOR/licor_%s'%day_str):\n",
    "    licor = pd.read_csv(d_loc+'LiCOR/licor_%s'%day_str, index_col=0, parse_dates=[0])\n",
    "else:\n",
    "    print('Error: File empty, '+day_str)\n",
    "\n",
    "P = licor['P']\n",
    "# Average p onto the same time and join\n",
    "P = P.resample('100L').mean().interpolate(method='time') # Interpolate over licor gaps in pressure\n",
    "m1['P']=P\n",
    "m2['P']=P\n",
    "m2['P']=m2['P'].fillna(method='bfill')\n",
    "m1['P']=m1['P'].fillna(method='bfill')"
   ]
  },
  {
   "cell_type": "code",
   "execution_count": 47,
   "metadata": {},
   "outputs": [],
   "source": [
    "# theta = T(P0/P)**(Rd/cp)\n",
    "# Assume that m1 and m2 are more or less the same pressure. \n",
    "m1_theta = m1['T'] * (P0/m1['P']) ** (Rd/cp)\n",
    "m2_theta = m2['T'] * (P0/m2['P']) ** (Rd/cp)"
   ]
  },
  {
   "cell_type": "code",
   "execution_count": 48,
   "metadata": {},
   "outputs": [],
   "source": [
    "dtheta = m2_theta - m1_theta\n",
    "du = m2['x'] - m1['x']\n",
    "dv = m2['y'] - m1['y']"
   ]
  },
  {
   "cell_type": "code",
   "execution_count": 57,
   "metadata": {},
   "outputs": [],
   "source": [
    "# Rig = g/T * (dthetaV/dz) / ((du/dz)**2 + (dv/dz)**2)\n",
    "\n",
    "#Rig = ((g/m1['T']) * ((dtheta/dz)) / (((du/dz)**2) + ((dv/dz)**2)))\n",
    "Rb = (g * dtheta * dz) / (m1_theta * (du**2 + dv**2)) "
   ]
  },
  {
   "cell_type": "code",
   "execution_count": 63,
   "metadata": {},
   "outputs": [
    {
     "data": {
      "text/plain": [
       "<matplotlib.axes._subplots.AxesSubplot at 0x1c23037450>"
      ]
     },
     "execution_count": 63,
     "metadata": {},
     "output_type": "execute_result"
    },
    {
     "data": {
      "image/png": "[encoded data removed]",
      "text/plain": [
       "<Figure size 432x288 with 1 Axes>"
      ]
     },
     "metadata": {
      "needs_background": "light"
     },
     "output_type": "display_data"
    }
   ],
   "source": [
    "Rb.plot()"
   ]
  },
  {
   "cell_type": "code",
   "execution_count": 59,
   "metadata": {},
   "outputs": [
    {
     "data": {
      "text/plain": [
       "0.10129257429053538"
      ]
     },
     "execution_count": 59,
     "metadata": {},
     "output_type": "execute_result"
    }
   ],
   "source": [
    "np.nanmax(Rb)"
   ]
  },
  {
   "cell_type": "code",
   "execution_count": 60,
   "metadata": {},
   "outputs": [
    {
     "data": {
      "text/plain": [
       "-inf"
      ]
     },
     "execution_count": 60,
     "metadata": {},
     "output_type": "execute_result"
    }
   ],
   "source": [
    "np.nanmin(Rb)"
   ]
  },
  {
   "cell_type": "code",
   "execution_count": 62,
   "metadata": {},
   "outputs": [
    {
     "data": {
      "text/plain": [
       "Date\n",
       "2019-08-20 00:00:00.000     9.1925\n",
       "2019-08-20 00:00:00.100     8.8562\n",
       "2019-08-20 00:00:00.200     9.5729\n",
       "2019-08-20 00:00:00.300     9.6260\n",
       "2019-08-20 00:00:00.400     9.0746\n",
       "2019-08-20 00:00:00.500     9.7585\n",
       "2019-08-20 00:00:00.600    10.0825\n",
       "2019-08-20 00:00:00.700     9.8501\n",
       "2019-08-20 00:00:00.800     9.4445\n",
       "2019-08-20 00:00:00.900     8.7365\n",
       "2019-08-20 00:00:01.000     9.0913\n",
       "2019-08-20 00:00:01.100     9.3029\n",
       "2019-08-20 00:00:01.200     8.8450\n",
       "2019-08-20 00:00:01.300     9.4113\n",
       "2019-08-20 00:00:01.400     9.3965\n",
       "2019-08-20 00:00:01.500     9.3850\n",
       "2019-08-20 00:00:01.600     9.9749\n",
       "2019-08-20 00:00:01.700    10.3121\n",
       "2019-08-20 00:00:01.800    10.0861\n",
       "2019-08-20 00:00:01.900     9.8216\n",
       "2019-08-20 00:00:02.000     9.4916\n",
       "2019-08-20 00:00:02.100     9.6245\n",
       "2019-08-20 00:00:02.200     9.7928\n",
       "2019-08-20 00:00:02.300     9.8960\n",
       "2019-08-20 00:00:02.400     9.9874\n",
       "2019-08-20 00:00:02.500    10.1345\n",
       "2019-08-20 00:00:02.600     9.4225\n",
       "2019-08-20 00:00:02.700     9.7732\n",
       "2019-08-20 00:00:02.800     9.7040\n",
       "2019-08-20 00:00:02.900     9.5965\n",
       "                            ...   \n",
       "2019-08-20 23:59:57.000     6.3410\n",
       "2019-08-20 23:59:57.100     6.6265\n",
       "2019-08-20 23:59:57.200     7.0900\n",
       "2019-08-20 23:59:57.300     6.8330\n",
       "2019-08-20 23:59:57.400     7.4978\n",
       "2019-08-20 23:59:57.500     7.1825\n",
       "2019-08-20 23:59:57.600     7.1410\n",
       "2019-08-20 23:59:57.700     6.9700\n",
       "2019-08-20 23:59:57.800     6.5332\n",
       "2019-08-20 23:59:57.900     6.3853\n",
       "2019-08-20 23:59:58.000     5.7170\n",
       "2019-08-20 23:59:58.100     6.3298\n",
       "2019-08-20 23:59:58.200     7.1865\n",
       "2019-08-20 23:59:58.300     7.6320\n",
       "2019-08-20 23:59:58.400     7.3421\n",
       "2019-08-20 23:59:58.500     8.1225\n",
       "2019-08-20 23:59:58.600     7.2833\n",
       "2019-08-20 23:59:58.700     7.1065\n",
       "2019-08-20 23:59:58.800     6.8969\n",
       "2019-08-20 23:59:58.900     7.2169\n",
       "2019-08-20 23:59:59.000     7.9209\n",
       "2019-08-20 23:59:59.100     8.0456\n",
       "2019-08-20 23:59:59.200     7.5101\n",
       "2019-08-20 23:59:59.300     6.9802\n",
       "2019-08-20 23:59:59.400     7.2610\n",
       "2019-08-20 23:59:59.500     6.8770\n",
       "2019-08-20 23:59:59.600     6.9064\n",
       "2019-08-20 23:59:59.700     7.1945\n",
       "2019-08-20 23:59:59.800     7.9525\n",
       "2019-08-20 23:59:59.900     7.2689\n",
       "Freq: 100L, Length: 864000, dtype: float64"
      ]
     },
     "execution_count": 62,
     "metadata": {},
     "output_type": "execute_result"
    }
   ],
   "source": [
    "du**2 + dv**2"
   ]
  },
  {
   "cell_type": "code",
   "execution_count": null,
   "metadata": {},
   "outputs": [],
   "source": []
  }
 ],
 "metadata": {
  "kernelspec": {
   "display_name": "Python 3",
   "language": "python",
   "name": "python3"
  },
  "language_info": {
   "codemirror_mode": {
    "name": "ipython",
    "version": 3
   },
   "file_extension": ".py",
   "mimetype": "text/x-python",
   "name": "python",
   "nbconvert_exporter": "python",
   "pygments_lexer": "ipython3",
   "version": "3.7.4"
  }
 },
 "nbformat": 4,
 "nbformat_minor": 4
}
