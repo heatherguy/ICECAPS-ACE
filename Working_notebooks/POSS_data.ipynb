{
 "cells": [
  {
   "cell_type": "code",
   "execution_count": 1,
   "metadata": {},
   "outputs": [],
   "source": [
    "# Import functions and set up plots\n",
    "%matplotlib inline\n",
    "import numpy as np       \n",
    "import datetime as dt    \n",
    "import pylab as plb\n",
    "import matplotlib\n",
    "import matplotlib.pyplot as plt\n",
    "import matplotlib.dates as md\n",
    "from matplotlib import rc\n",
    "from matplotlib import rcParams\n",
    "import glob\n",
    "import itertools\n",
    "import datetime\n",
    "import pandas as pd\n",
    "\n",
    "rcParams['xtick.direction'] = 'in'\n",
    "rcParams['ytick.direction'] = 'in'\n",
    "rcParams.update({'font.size': 12}) \n",
    "myFmt = md.DateFormatter('%H')\n",
    "rule = md.HourLocator(interval=2)"
   ]
  },
  {
   "cell_type": "code",
   "execution_count": 2,
   "metadata": {},
   "outputs": [],
   "source": [
    "# All poss data\n",
    "# Get all file names\n",
    "fpath = '/Users/heather/Desktop/POSS/processed'\n",
    "all_files = glob.glob(fpath + '*')\n"
   ]
  },
  {
   "cell_type": "code",
   "execution_count": 3,
   "metadata": {},
   "outputs": [
    {
     "data": {
      "text/plain": [
       "['/Users/heather/Desktop/POSS/processed']"
      ]
     },
     "execution_count": 3,
     "metadata": {},
     "output_type": "execute_result"
    }
   ],
   "source": [
    "all_files"
   ]
  },
  {
   "cell_type": "code",
   "execution_count": null,
   "metadata": {},
   "outputs": [],
   "source": []
  }
 ],
 "metadata": {
  "kernelspec": {
   "display_name": "Python 2",
   "language": "python",
   "name": "python2"
  },
  "language_info": {
   "codemirror_mode": {
    "name": "ipython",
    "version": 2
   },
   "file_extension": ".py",
   "mimetype": "text/x-python",
   "name": "python",
   "nbconvert_exporter": "python",
   "pygments_lexer": "ipython2",
   "version": "2.7.15"
  }
 },
 "nbformat": 4,
 "nbformat_minor": 2
}
