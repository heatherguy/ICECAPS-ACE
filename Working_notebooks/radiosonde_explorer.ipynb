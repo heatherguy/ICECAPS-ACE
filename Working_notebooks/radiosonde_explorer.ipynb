{
 "cells": [
  {
   "cell_type": "code",
   "execution_count": 2,
   "metadata": {},
   "outputs": [],
   "source": [
    "from glob import glob\n",
    "import pandas as pd\n",
    "import numpy  as np\n",
    "from bokeh.io import output_notebook, show, output_file, save\n",
    "from bokeh.layouts import gridplot\n",
    "from bokeh.palettes import Viridis3\n",
    "from bokeh.plotting import figure\n",
    "from bokeh.palettes import Category20_20\n",
    "from bokeh.layouts import row\n",
    "from bokeh.models import Span, HoverTool\n",
    "\n",
    "import netCDF4 as nc"
   ]
  },
  {
   "cell_type": "code",
   "execution_count": null,
   "metadata": {},
   "outputs": [],
   "source": [
    "p1 = figure(plot_width=700, plot_height=700, y_axis_type=\"log\", x_range=[-85, -40], y_range=[500, 10], title='Summit Radiosonde Profiles - 2020 Ozonehole')\n",
    "sondes = glob('/Volumes/Neely/GREENLAND/ICECAPSarchive/radiosonde/processed/smtsondewnpnX1.b1.202004*.cdf')\n",
    "sondes.sort()\n",
    "for fn, color in zip(sondes, Category20_20):\n",
    "    snd = nc.Dataset(fn)\n",
    "    name = fn[-19:-4]\n",
    "    print(name)\n",
    "    p1.line(snd['tdry'][:].data, snd['pres'][:].data, line_width=2, color=color, legend_label=name)\n",
    "p1.line(-78, 1000, line_color='magenta', legend_label=\"T_NAT\")\n",
    "p1.line(-83, 1000, line_color='green', legend_label=\"T_ice\")\n",
    "T_NAT = Span(location=-78,\n",
    "                        dimension='height', line_color='magenta',\n",
    "                        line_dash='dashed', line_width=3)\n",
    "T_ICE = Span(location=-83,\n",
    "                        dimension='height', line_color='green',\n",
    "                        line_dash='dashed', line_width=3,  line_alpha=0.5)\n",
    "p1.add_layout( T_NAT )\n",
    "p1.add_layout( T_ICE )\n",
    "p1.legend.location = \"top_right\"\n",
    "p1.legend.click_policy=\"hide\"\n",
    "#p1.y_range.flipped = True\n",
    "show(row(p1))\n",
    "output_file(\"SummitSondes2020032823_to_2020040511.html\")\n",
    "save(p1)"
   ]
  }
 ],
 "metadata": {
  "kernelspec": {
   "display_name": "Python 3",
   "language": "python",
   "name": "python3"
  },
  "language_info": {
   "codemirror_mode": {
    "name": "ipython",
    "version": 3
   },
   "file_extension": ".py",
   "mimetype": "text/x-python",
   "name": "python",
   "nbconvert_exporter": "python",
   "pygments_lexer": "ipython3",
   "version": "3.7.4"
  }
 },
 "nbformat": 4,
 "nbformat_minor": 4
}
